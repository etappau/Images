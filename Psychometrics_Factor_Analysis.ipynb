{
  "nbformat": 4,
  "nbformat_minor": 0,
  "metadata": {
    "colab": {
      "name": "Psychometrics_Factor_Analysis.ipynb",
      "version": "0.3.2",
      "provenance": [],
      "include_colab_link": true
    },
    "kernelspec": {
      "name": "python3",
      "display_name": "Python 3"
    }
  },
  "cells": [
    {
      "cell_type": "markdown",
      "metadata": {
        "id": "view-in-github",
        "colab_type": "text"
      },
      "source": [
        "<a href=\"https://colab.research.google.com/github/etappau/Images/blob/master/Psychometrics_Factor_Analysis.ipynb\" target=\"_parent\"><img src=\"https://colab.research.google.com/assets/colab-badge.svg\" alt=\"Open In Colab\"/></a>"
      ]
    },
    {
      "metadata": {
        "id": "mK-rXnSdTnUM",
        "colab_type": "code",
        "colab": {}
      },
      "cell_type": "code",
      "source": [
        "import pandas as pd"
      ],
      "execution_count": 0,
      "outputs": []
    },
    {
      "metadata": {
        "id": "K-USf5_YTxfV",
        "colab_type": "code",
        "colab": {}
      },
      "cell_type": "code",
      "source": [
        "df = pd.read_csv('Book1.csv')"
      ],
      "execution_count": 0,
      "outputs": []
    },
    {
      "metadata": {
        "id": "CCIq8hWeTzjn",
        "colab_type": "code",
        "outputId": "0379b801-20dd-4ae6-c8f3-93ec74d681f6",
        "colab": {
          "base_uri": "https://localhost:8080/",
          "height": 35
        }
      },
      "cell_type": "code",
      "source": [
        "df.shape"
      ],
      "execution_count": 0,
      "outputs": [
        {
          "output_type": "execute_result",
          "data": {
            "text/plain": [
              "(1017, 58)"
            ]
          },
          "metadata": {
            "tags": []
          },
          "execution_count": 4
        }
      ]
    },
    {
      "metadata": {
        "id": "89Oi6Ga8NGhS",
        "colab_type": "code",
        "outputId": "08b1fa87-bbfc-4c07-be9e-496e00132ee3",
        "colab": {
          "base_uri": "https://localhost:8080/",
          "height": 255
        }
      },
      "cell_type": "code",
      "source": [
        "df.head()"
      ],
      "execution_count": 0,
      "outputs": [
        {
          "output_type": "execute_result",
          "data": {
            "text/html": [
              "<div>\n",
              "<style scoped>\n",
              "    .dataframe tbody tr th:only-of-type {\n",
              "        vertical-align: middle;\n",
              "    }\n",
              "\n",
              "    .dataframe tbody tr th {\n",
              "        vertical-align: top;\n",
              "    }\n",
              "\n",
              "    .dataframe thead th {\n",
              "        text-align: right;\n",
              "    }\n",
              "</style>\n",
              "<table border=\"1\" class=\"dataframe\">\n",
              "  <thead>\n",
              "    <tr style=\"text-align: right;\">\n",
              "      <th></th>\n",
              "      <th>sca2gen</th>\n",
              "      <th>scbage</th>\n",
              "      <th>cla</th>\n",
              "      <th>clb</th>\n",
              "      <th>cld</th>\n",
              "      <th>cle</th>\n",
              "      <th>clf</th>\n",
              "      <th>clg</th>\n",
              "      <th>ses</th>\n",
              "      <th>@q4m1</th>\n",
              "      <th>...</th>\n",
              "      <th>Jig_Escapism_Factor</th>\n",
              "      <th>filter_$</th>\n",
              "      <th>CLU4_1</th>\n",
              "      <th>CLU7_2</th>\n",
              "      <th>CLU6_2</th>\n",
              "      <th>CLU5_2</th>\n",
              "      <th>CLU4_2</th>\n",
              "      <th>QCL_1</th>\n",
              "      <th>QCL_2</th>\n",
              "      <th>escapism</th>\n",
              "    </tr>\n",
              "  </thead>\n",
              "  <tbody>\n",
              "    <tr>\n",
              "      <th>0</th>\n",
              "      <td>1</td>\n",
              "      <td>3</td>\n",
              "      <td></td>\n",
              "      <td></td>\n",
              "      <td>1</td>\n",
              "      <td>10</td>\n",
              "      <td>3</td>\n",
              "      <td>3</td>\n",
              "      <td>1</td>\n",
              "      <td>0</td>\n",
              "      <td>...</td>\n",
              "      <td>2.925399</td>\n",
              "      <td>0</td>\n",
              "      <td>1</td>\n",
              "      <td>1</td>\n",
              "      <td>1</td>\n",
              "      <td>1</td>\n",
              "      <td>1</td>\n",
              "      <td>1</td>\n",
              "      <td>1</td>\n",
              "      <td>3.0</td>\n",
              "    </tr>\n",
              "    <tr>\n",
              "      <th>1</th>\n",
              "      <td>1</td>\n",
              "      <td>3</td>\n",
              "      <td></td>\n",
              "      <td></td>\n",
              "      <td>3</td>\n",
              "      <td>3</td>\n",
              "      <td>7</td>\n",
              "      <td>2</td>\n",
              "      <td>2</td>\n",
              "      <td>0</td>\n",
              "      <td>...</td>\n",
              "      <td>1.009296</td>\n",
              "      <td>1</td>\n",
              "      <td>2</td>\n",
              "      <td>2</td>\n",
              "      <td>2</td>\n",
              "      <td>2</td>\n",
              "      <td>2</td>\n",
              "      <td>2</td>\n",
              "      <td>2</td>\n",
              "      <td>1.0</td>\n",
              "    </tr>\n",
              "    <tr>\n",
              "      <th>2</th>\n",
              "      <td>1</td>\n",
              "      <td>3</td>\n",
              "      <td></td>\n",
              "      <td></td>\n",
              "      <td>3</td>\n",
              "      <td>2</td>\n",
              "      <td>1</td>\n",
              "      <td>4</td>\n",
              "      <td>2</td>\n",
              "      <td>0</td>\n",
              "      <td>...</td>\n",
              "      <td>1.089761</td>\n",
              "      <td>1</td>\n",
              "      <td>2</td>\n",
              "      <td>2</td>\n",
              "      <td>2</td>\n",
              "      <td>2</td>\n",
              "      <td>2</td>\n",
              "      <td>2</td>\n",
              "      <td>2</td>\n",
              "      <td>1.0</td>\n",
              "    </tr>\n",
              "    <tr>\n",
              "      <th>3</th>\n",
              "      <td>1</td>\n",
              "      <td>4</td>\n",
              "      <td>5</td>\n",
              "      <td>10</td>\n",
              "      <td>3</td>\n",
              "      <td>10</td>\n",
              "      <td>4</td>\n",
              "      <td>3</td>\n",
              "      <td>1</td>\n",
              "      <td>0</td>\n",
              "      <td>...</td>\n",
              "      <td>0.982932</td>\n",
              "      <td>1</td>\n",
              "      <td>2</td>\n",
              "      <td>2</td>\n",
              "      <td>2</td>\n",
              "      <td>2</td>\n",
              "      <td>2</td>\n",
              "      <td>2</td>\n",
              "      <td>2</td>\n",
              "      <td>1.0</td>\n",
              "    </tr>\n",
              "    <tr>\n",
              "      <th>4</th>\n",
              "      <td>1</td>\n",
              "      <td>5</td>\n",
              "      <td>2</td>\n",
              "      <td>9</td>\n",
              "      <td>1</td>\n",
              "      <td>1</td>\n",
              "      <td>5</td>\n",
              "      <td>5</td>\n",
              "      <td>3</td>\n",
              "      <td>0</td>\n",
              "      <td>...</td>\n",
              "      <td>2.911786</td>\n",
              "      <td>0</td>\n",
              "      <td>1</td>\n",
              "      <td>1</td>\n",
              "      <td>1</td>\n",
              "      <td>1</td>\n",
              "      <td>1</td>\n",
              "      <td>1</td>\n",
              "      <td>1</td>\n",
              "      <td>3.0</td>\n",
              "    </tr>\n",
              "  </tbody>\n",
              "</table>\n",
              "<p>5 rows × 58 columns</p>\n",
              "</div>"
            ],
            "text/plain": [
              "   sca2gen  scbage cla clb  cld  cle  clf  clg  ses  @q4m1    ...     \\\n",
              "0        1       3            1   10    3    3    1      0    ...      \n",
              "1        1       3            3    3    7    2    2      0    ...      \n",
              "2        1       3            3    2    1    4    2      0    ...      \n",
              "3        1       4   5  10    3   10    4    3    1      0    ...      \n",
              "4        1       5   2   9    1    1    5    5    3      0    ...      \n",
              "\n",
              "   Jig_Escapism_Factor  filter_$  CLU4_1  CLU7_2  CLU6_2  CLU5_2  CLU4_2  \\\n",
              "0             2.925399         0       1       1       1       1       1   \n",
              "1             1.009296         1       2       2       2       2       2   \n",
              "2             1.089761         1       2       2       2       2       2   \n",
              "3             0.982932         1       2       2       2       2       2   \n",
              "4             2.911786         0       1       1       1       1       1   \n",
              "\n",
              "   QCL_1  QCL_2  escapism  \n",
              "0      1      1       3.0  \n",
              "1      2      2       1.0  \n",
              "2      2      2       1.0  \n",
              "3      2      2       1.0  \n",
              "4      1      1       3.0  \n",
              "\n",
              "[5 rows x 58 columns]"
            ]
          },
          "metadata": {
            "tags": []
          },
          "execution_count": 8
        }
      ]
    },
    {
      "metadata": {
        "id": "dHQOPv1TMxjs",
        "colab_type": "code",
        "colab": {}
      },
      "cell_type": "code",
      "source": [
        "import pandas_profiling"
      ],
      "execution_count": 0,
      "outputs": []
    },
    {
      "metadata": {
        "id": "pRcdYLtXMy1Y",
        "colab_type": "code",
        "colab": {}
      },
      "cell_type": "code",
      "source": [
        "#pandas_profiling.ProfileReport(df)"
      ],
      "execution_count": 0,
      "outputs": []
    },
    {
      "metadata": {
        "id": "T49wCUXlUiwa",
        "colab_type": "code",
        "colab": {}
      },
      "cell_type": "code",
      "source": [
        "df1 = df[((df['q15a']==1)&(df['q15b']==1)&(df['q15c']==1)&(df['q15d']==1)&(df['q15e']==1)&(df['q15f']==1)&(df['q15g']==1)&(df['q15h']==1)&(df['q15i']==1)&(df['q15j']==1)&(df['q15k']==1)&(df['q15l']==1)&(df['q15m']==1)&(df['q15n']==1)&(df['q15o']==1)&(df['q15p']==1)&(df['q15q']==1)&(df['q15r']==1)&(df['q15s']==1))]"
      ],
      "execution_count": 0,
      "outputs": []
    },
    {
      "metadata": {
        "id": "0oXED_lNUqnQ",
        "colab_type": "code",
        "outputId": "45dbc6ca-1787-496c-80e5-992ca513a51c",
        "colab": {
          "base_uri": "https://localhost:8080/",
          "height": 412
        }
      },
      "cell_type": "code",
      "source": [
        "df1"
      ],
      "execution_count": 0,
      "outputs": [
        {
          "output_type": "execute_result",
          "data": {
            "text/html": [
              "<div>\n",
              "<style scoped>\n",
              "    .dataframe tbody tr th:only-of-type {\n",
              "        vertical-align: middle;\n",
              "    }\n",
              "\n",
              "    .dataframe tbody tr th {\n",
              "        vertical-align: top;\n",
              "    }\n",
              "\n",
              "    .dataframe thead th {\n",
              "        text-align: right;\n",
              "    }\n",
              "</style>\n",
              "<table border=\"1\" class=\"dataframe\">\n",
              "  <thead>\n",
              "    <tr style=\"text-align: right;\">\n",
              "      <th></th>\n",
              "      <th>sca2gen</th>\n",
              "      <th>scbage</th>\n",
              "      <th>cla</th>\n",
              "      <th>clb</th>\n",
              "      <th>cld</th>\n",
              "      <th>cle</th>\n",
              "      <th>clf</th>\n",
              "      <th>clg</th>\n",
              "      <th>ses</th>\n",
              "      <th>@q4m1</th>\n",
              "      <th>...</th>\n",
              "      <th>Jig_Escapism_Factor</th>\n",
              "      <th>filter_$</th>\n",
              "      <th>CLU4_1</th>\n",
              "      <th>CLU7_2</th>\n",
              "      <th>CLU6_2</th>\n",
              "      <th>CLU5_2</th>\n",
              "      <th>CLU4_2</th>\n",
              "      <th>QCL_1</th>\n",
              "      <th>QCL_2</th>\n",
              "      <th>escapism</th>\n",
              "    </tr>\n",
              "  </thead>\n",
              "  <tbody>\n",
              "    <tr>\n",
              "      <th>1</th>\n",
              "      <td>1</td>\n",
              "      <td>3</td>\n",
              "      <td></td>\n",
              "      <td></td>\n",
              "      <td>3</td>\n",
              "      <td>3</td>\n",
              "      <td>7</td>\n",
              "      <td>2</td>\n",
              "      <td>2</td>\n",
              "      <td>0</td>\n",
              "      <td>...</td>\n",
              "      <td>1.009296</td>\n",
              "      <td>1</td>\n",
              "      <td>2</td>\n",
              "      <td>2</td>\n",
              "      <td>2</td>\n",
              "      <td>2</td>\n",
              "      <td>2</td>\n",
              "      <td>2</td>\n",
              "      <td>2</td>\n",
              "      <td>1.0</td>\n",
              "    </tr>\n",
              "    <tr>\n",
              "      <th>2</th>\n",
              "      <td>1</td>\n",
              "      <td>3</td>\n",
              "      <td></td>\n",
              "      <td></td>\n",
              "      <td>3</td>\n",
              "      <td>2</td>\n",
              "      <td>1</td>\n",
              "      <td>4</td>\n",
              "      <td>2</td>\n",
              "      <td>0</td>\n",
              "      <td>...</td>\n",
              "      <td>1.089761</td>\n",
              "      <td>1</td>\n",
              "      <td>2</td>\n",
              "      <td>2</td>\n",
              "      <td>2</td>\n",
              "      <td>2</td>\n",
              "      <td>2</td>\n",
              "      <td>2</td>\n",
              "      <td>2</td>\n",
              "      <td>1.0</td>\n",
              "    </tr>\n",
              "    <tr>\n",
              "      <th>3</th>\n",
              "      <td>1</td>\n",
              "      <td>4</td>\n",
              "      <td>5</td>\n",
              "      <td>10</td>\n",
              "      <td>3</td>\n",
              "      <td>10</td>\n",
              "      <td>4</td>\n",
              "      <td>3</td>\n",
              "      <td>1</td>\n",
              "      <td>0</td>\n",
              "      <td>...</td>\n",
              "      <td>0.982932</td>\n",
              "      <td>1</td>\n",
              "      <td>2</td>\n",
              "      <td>2</td>\n",
              "      <td>2</td>\n",
              "      <td>2</td>\n",
              "      <td>2</td>\n",
              "      <td>2</td>\n",
              "      <td>2</td>\n",
              "      <td>1.0</td>\n",
              "    </tr>\n",
              "    <tr>\n",
              "      <th>15</th>\n",
              "      <td>1</td>\n",
              "      <td>6</td>\n",
              "      <td>2</td>\n",
              "      <td>9</td>\n",
              "      <td>1</td>\n",
              "      <td>14</td>\n",
              "      <td>2</td>\n",
              "      <td>6</td>\n",
              "      <td>2</td>\n",
              "      <td>1</td>\n",
              "      <td>...</td>\n",
              "      <td>1.016899</td>\n",
              "      <td>1</td>\n",
              "      <td>2</td>\n",
              "      <td>2</td>\n",
              "      <td>2</td>\n",
              "      <td>2</td>\n",
              "      <td>2</td>\n",
              "      <td>2</td>\n",
              "      <td>2</td>\n",
              "      <td>1.0</td>\n",
              "    </tr>\n",
              "    <tr>\n",
              "      <th>319</th>\n",
              "      <td>1</td>\n",
              "      <td>7</td>\n",
              "      <td>1</td>\n",
              "      <td>2</td>\n",
              "      <td>1</td>\n",
              "      <td>2</td>\n",
              "      <td>5</td>\n",
              "      <td>6</td>\n",
              "      <td>3</td>\n",
              "      <td>0</td>\n",
              "      <td>...</td>\n",
              "      <td>0.958695</td>\n",
              "      <td>1</td>\n",
              "      <td>2</td>\n",
              "      <td>2</td>\n",
              "      <td>2</td>\n",
              "      <td>2</td>\n",
              "      <td>2</td>\n",
              "      <td>2</td>\n",
              "      <td>2</td>\n",
              "      <td>1.0</td>\n",
              "    </tr>\n",
              "    <tr>\n",
              "      <th>491</th>\n",
              "      <td>1</td>\n",
              "      <td>4</td>\n",
              "      <td>5</td>\n",
              "      <td>10</td>\n",
              "      <td>6</td>\n",
              "      <td>14</td>\n",
              "      <td>7</td>\n",
              "      <td>9</td>\n",
              "      <td>4</td>\n",
              "      <td>0</td>\n",
              "      <td>...</td>\n",
              "      <td>0.904712</td>\n",
              "      <td>1</td>\n",
              "      <td>2</td>\n",
              "      <td>2</td>\n",
              "      <td>2</td>\n",
              "      <td>2</td>\n",
              "      <td>2</td>\n",
              "      <td>2</td>\n",
              "      <td>2</td>\n",
              "      <td>1.0</td>\n",
              "    </tr>\n",
              "    <tr>\n",
              "      <th>511</th>\n",
              "      <td>1</td>\n",
              "      <td>4</td>\n",
              "      <td>2</td>\n",
              "      <td>1</td>\n",
              "      <td>1</td>\n",
              "      <td>10</td>\n",
              "      <td>4</td>\n",
              "      <td>6</td>\n",
              "      <td>2</td>\n",
              "      <td>0</td>\n",
              "      <td>...</td>\n",
              "      <td>0.977883</td>\n",
              "      <td>1</td>\n",
              "      <td>2</td>\n",
              "      <td>2</td>\n",
              "      <td>2</td>\n",
              "      <td>2</td>\n",
              "      <td>2</td>\n",
              "      <td>2</td>\n",
              "      <td>2</td>\n",
              "      <td>1.0</td>\n",
              "    </tr>\n",
              "    <tr>\n",
              "      <th>566</th>\n",
              "      <td>1</td>\n",
              "      <td>6</td>\n",
              "      <td>2</td>\n",
              "      <td>2</td>\n",
              "      <td>4</td>\n",
              "      <td>3</td>\n",
              "      <td>5</td>\n",
              "      <td>4</td>\n",
              "      <td>2</td>\n",
              "      <td>0</td>\n",
              "      <td>...</td>\n",
              "      <td>1.018090</td>\n",
              "      <td>1</td>\n",
              "      <td>2</td>\n",
              "      <td>2</td>\n",
              "      <td>2</td>\n",
              "      <td>2</td>\n",
              "      <td>2</td>\n",
              "      <td>2</td>\n",
              "      <td>2</td>\n",
              "      <td>1.0</td>\n",
              "    </tr>\n",
              "    <tr>\n",
              "      <th>792</th>\n",
              "      <td>1</td>\n",
              "      <td>4</td>\n",
              "      <td>2</td>\n",
              "      <td>1</td>\n",
              "      <td>1</td>\n",
              "      <td>10</td>\n",
              "      <td>3</td>\n",
              "      <td>5</td>\n",
              "      <td>1</td>\n",
              "      <td>0</td>\n",
              "      <td>...</td>\n",
              "      <td>0.978329</td>\n",
              "      <td>1</td>\n",
              "      <td>2</td>\n",
              "      <td>2</td>\n",
              "      <td>2</td>\n",
              "      <td>2</td>\n",
              "      <td>2</td>\n",
              "      <td>2</td>\n",
              "      <td>2</td>\n",
              "      <td>1.0</td>\n",
              "    </tr>\n",
              "    <tr>\n",
              "      <th>968</th>\n",
              "      <td>1</td>\n",
              "      <td>3</td>\n",
              "      <td></td>\n",
              "      <td></td>\n",
              "      <td>1</td>\n",
              "      <td>1</td>\n",
              "      <td>2</td>\n",
              "      <td>5</td>\n",
              "      <td>2</td>\n",
              "      <td>0</td>\n",
              "      <td>...</td>\n",
              "      <td>0.988277</td>\n",
              "      <td>1</td>\n",
              "      <td>2</td>\n",
              "      <td>2</td>\n",
              "      <td>2</td>\n",
              "      <td>2</td>\n",
              "      <td>2</td>\n",
              "      <td>2</td>\n",
              "      <td>2</td>\n",
              "      <td>1.0</td>\n",
              "    </tr>\n",
              "  </tbody>\n",
              "</table>\n",
              "<p>10 rows × 58 columns</p>\n",
              "</div>"
            ],
            "text/plain": [
              "     sca2gen  scbage cla clb  cld  cle  clf  clg  ses  @q4m1    ...     \\\n",
              "1          1       3            3    3    7    2    2      0    ...      \n",
              "2          1       3            3    2    1    4    2      0    ...      \n",
              "3          1       4   5  10    3   10    4    3    1      0    ...      \n",
              "15         1       6   2   9    1   14    2    6    2      1    ...      \n",
              "319        1       7   1   2    1    2    5    6    3      0    ...      \n",
              "491        1       4   5  10    6   14    7    9    4      0    ...      \n",
              "511        1       4   2   1    1   10    4    6    2      0    ...      \n",
              "566        1       6   2   2    4    3    5    4    2      0    ...      \n",
              "792        1       4   2   1    1   10    3    5    1      0    ...      \n",
              "968        1       3            1    1    2    5    2      0    ...      \n",
              "\n",
              "     Jig_Escapism_Factor  filter_$  CLU4_1  CLU7_2  CLU6_2  CLU5_2  CLU4_2  \\\n",
              "1               1.009296         1       2       2       2       2       2   \n",
              "2               1.089761         1       2       2       2       2       2   \n",
              "3               0.982932         1       2       2       2       2       2   \n",
              "15              1.016899         1       2       2       2       2       2   \n",
              "319             0.958695         1       2       2       2       2       2   \n",
              "491             0.904712         1       2       2       2       2       2   \n",
              "511             0.977883         1       2       2       2       2       2   \n",
              "566             1.018090         1       2       2       2       2       2   \n",
              "792             0.978329         1       2       2       2       2       2   \n",
              "968             0.988277         1       2       2       2       2       2   \n",
              "\n",
              "     QCL_1  QCL_2  escapism  \n",
              "1        2      2       1.0  \n",
              "2        2      2       1.0  \n",
              "3        2      2       1.0  \n",
              "15       2      2       1.0  \n",
              "319      2      2       1.0  \n",
              "491      2      2       1.0  \n",
              "511      2      2       1.0  \n",
              "566      2      2       1.0  \n",
              "792      2      2       1.0  \n",
              "968      2      2       1.0  \n",
              "\n",
              "[10 rows x 58 columns]"
            ]
          },
          "metadata": {
            "tags": []
          },
          "execution_count": 17
        }
      ]
    },
    {
      "metadata": {
        "id": "2tt2kN4lU6ts",
        "colab_type": "code",
        "colab": {}
      },
      "cell_type": "code",
      "source": [
        "df2 = df[((df['q15a']==2)&(df['q15b']==2)&(df['q15c']==2)&(df['q15d']==2)&(df['q15e']==2)&(df['q15f']==2)&(df['q15g']==2)&(df['q15h']==2)&(df['q15i']==2)&(df['q15j']==2)&(df['q15k']==2)&(df['q15l']==2)&(df['q15m']==2)&(df['q15n']==2)&(df['q15o']==2)&(df['q15p']==2)&(df['q15q']==2)&(df['q15r']==2)&(df['q15s']==2))]"
      ],
      "execution_count": 0,
      "outputs": []
    },
    {
      "metadata": {
        "id": "PhdZZmp9U9sG",
        "colab_type": "code",
        "outputId": "e7ec51ea-f0f0-4572-ecc2-a2e74c321d42",
        "colab": {
          "base_uri": "https://localhost:8080/",
          "height": 35
        }
      },
      "cell_type": "code",
      "source": [
        "df2.shape"
      ],
      "execution_count": 0,
      "outputs": [
        {
          "output_type": "execute_result",
          "data": {
            "text/plain": [
              "(3, 58)"
            ]
          },
          "metadata": {
            "tags": []
          },
          "execution_count": 12
        }
      ]
    },
    {
      "metadata": {
        "id": "ZY-YUNBVVImB",
        "colab_type": "code",
        "colab": {}
      },
      "cell_type": "code",
      "source": [
        "df3 = df[((df['q15a']==3)&(df['q15b']==3)&(df['q15c']==3)&(df['q15d']==3)&(df['q15e']==3)&(df['q15f']==3)&(df['q15g']==3)&(df['q15h']==3)&(df['q15i']==3)&(df['q15j']==3)&(df['q15k']==3)&(df['q15l']==3)&(df['q15m']==3)&(df['q15n']==3)&(df['q15o']==3)&(df['q15p']==3)&(df['q15q']==3)&(df['q15r']==3)&(df['q15s']==3))]"
      ],
      "execution_count": 0,
      "outputs": []
    },
    {
      "metadata": {
        "id": "1Sx3G0t8VKHr",
        "colab_type": "code",
        "outputId": "0bc107d6-fe58-423e-d577-7658f8d76ce9",
        "colab": {
          "base_uri": "https://localhost:8080/",
          "height": 35
        }
      },
      "cell_type": "code",
      "source": [
        "df3.shape"
      ],
      "execution_count": 0,
      "outputs": [
        {
          "output_type": "execute_result",
          "data": {
            "text/plain": [
              "(41, 58)"
            ]
          },
          "metadata": {
            "tags": []
          },
          "execution_count": 14
        }
      ]
    },
    {
      "metadata": {
        "id": "XQedYISXVVv8",
        "colab_type": "code",
        "colab": {}
      },
      "cell_type": "code",
      "source": [
        "df4 = df[((df['q15a']==4)&(df['q15b']==4)&(df['q15c']==4)&(df['q15d']==4)&(df['q15e']==4)&(df['q15f']==4)&(df['q15g']==4)&(df['q15h']==4)&(df['q15i']==4)&(df['q15j']==4)&(df['q15k']==4)&(df['q15l']==4)&(df['q15m']==4)&(df['q15n']==4)&(df['q15o']==4)&(df['q15p']==4)&(df['q15q']==4)&(df['q15r']==4)&(df['q15s']==4))]"
      ],
      "execution_count": 0,
      "outputs": []
    },
    {
      "metadata": {
        "id": "Zp9cd0atVcl5",
        "colab_type": "code",
        "outputId": "6f4ec468-fc89-4c12-8c7e-00256cfe9343",
        "colab": {
          "base_uri": "https://localhost:8080/",
          "height": 35
        }
      },
      "cell_type": "code",
      "source": [
        "df4.shape"
      ],
      "execution_count": 0,
      "outputs": [
        {
          "output_type": "execute_result",
          "data": {
            "text/plain": [
              "(7, 58)"
            ]
          },
          "metadata": {
            "tags": []
          },
          "execution_count": 16
        }
      ]
    },
    {
      "metadata": {
        "id": "d3iYyu-KT5Bt",
        "colab_type": "code",
        "colab": {}
      },
      "cell_type": "code",
      "source": [
        "df[((df['q15a']==1)&(df['q15b']==1)&(df['q15c']==1)&(df['q15d']==1)&(df['q15e']==1)&(df['q15f']==1)&(df['q15g']==1)&(df['q15h']==1)&(df['q15i']==1)&(df['q15j']==1)&(df['q15k']==1)&(df['q15l']==1)&(df['q15m']==1)&(df['q15n']==1)&(df['q15o']==1)&(df['q15p']==1)&(df['q15q']==1)&(df['q15r']==1)&(df['q15s']==1))|((df['q15a']==3)&(df['q15b']==3)&(df['q15c']==3)&(df['q15d']==3)&(df['q15e']==3)&(df['q15f']==3)&(df['q15g']==3)&(df['q15h']==3)&(df['q15i']==3)&(df['q15j']==3)&(df['q15k']==3)&(df['q15l']==3)&(df['q15m']==3)&(df['q15n']==3)&(df['q15o']==3)&(df['q15p']==3)&(df['q15q']==3)&(df['q15r']==3)&(df['q15s']==3))|((df['q15a']==5)&(df['q15b']==5)&(df['q15c']==5)&(df['q15d']==5)&(df['q15e']==5)&(df['q15f']==5)&(df['q15g']==5)&(df['q15h']==5)&(df['q15i']==5)&(df['q15j']==5)&(df['q15k']==5)&(df['q15l']==5)&(df['q15m']==5)&(df['q15n']==5)&(df['q15o']==5)&(df['q15p']==5)&(df['q15q']==5)&(df['q15r']==5)&(df['q15s']==5))]"
      ],
      "execution_count": 0,
      "outputs": []
    },
    {
      "metadata": {
        "id": "oTurgmRdVnbH",
        "colab_type": "code",
        "colab": {}
      },
      "cell_type": "code",
      "source": [
        "df5 = df[((df['q15a']==5)&(df['q15b']==5)&(df['q15c']==5)&(df['q15d']==5)&(df['q15e']==5)&(df['q15f']==5)&(df['q15g']==5)&(df['q15h']==5)&(df['q15i']==5)&(df['q15j']==5)&(df['q15k']==5)&(df['q15l']==5)&(df['q15m']==5)&(df['q15n']==5)&(df['q15o']==5)&(df['q15p']==5)&(df['q15q']==5)&(df['q15r']==5)&(df['q15s']==5))]"
      ],
      "execution_count": 0,
      "outputs": []
    },
    {
      "metadata": {
        "id": "T4heV1L1Vv1_",
        "colab_type": "code",
        "outputId": "2ffeeffd-0e38-49e2-ee88-f5e7b11e666e",
        "colab": {
          "base_uri": "https://localhost:8080/",
          "height": 193
        }
      },
      "cell_type": "code",
      "source": [
        "df5"
      ],
      "execution_count": 0,
      "outputs": [
        {
          "output_type": "execute_result",
          "data": {
            "text/html": [
              "<div>\n",
              "<style scoped>\n",
              "    .dataframe tbody tr th:only-of-type {\n",
              "        vertical-align: middle;\n",
              "    }\n",
              "\n",
              "    .dataframe tbody tr th {\n",
              "        vertical-align: top;\n",
              "    }\n",
              "\n",
              "    .dataframe thead th {\n",
              "        text-align: right;\n",
              "    }\n",
              "</style>\n",
              "<table border=\"1\" class=\"dataframe\">\n",
              "  <thead>\n",
              "    <tr style=\"text-align: right;\">\n",
              "      <th></th>\n",
              "      <th>sca2gen</th>\n",
              "      <th>scbage</th>\n",
              "      <th>cla</th>\n",
              "      <th>clb</th>\n",
              "      <th>cld</th>\n",
              "      <th>cle</th>\n",
              "      <th>clf</th>\n",
              "      <th>clg</th>\n",
              "      <th>ses</th>\n",
              "      <th>@q4m1</th>\n",
              "      <th>...</th>\n",
              "      <th>Jig_Escapism_Factor</th>\n",
              "      <th>filter_$</th>\n",
              "      <th>CLU4_1</th>\n",
              "      <th>CLU7_2</th>\n",
              "      <th>CLU6_2</th>\n",
              "      <th>CLU5_2</th>\n",
              "      <th>CLU4_2</th>\n",
              "      <th>QCL_1</th>\n",
              "      <th>QCL_2</th>\n",
              "      <th>escapism</th>\n",
              "    </tr>\n",
              "  </thead>\n",
              "  <tbody>\n",
              "    <tr>\n",
              "      <th>289</th>\n",
              "      <td>1</td>\n",
              "      <td>4</td>\n",
              "      <td>2</td>\n",
              "      <td>9</td>\n",
              "      <td>1</td>\n",
              "      <td>10</td>\n",
              "      <td>2</td>\n",
              "      <td>7</td>\n",
              "      <td>2</td>\n",
              "      <td>0</td>\n",
              "      <td>...</td>\n",
              "      <td>5.005743</td>\n",
              "      <td>0</td>\n",
              "      <td>1</td>\n",
              "      <td>7</td>\n",
              "      <td>6</td>\n",
              "      <td>5</td>\n",
              "      <td>3</td>\n",
              "      <td>3</td>\n",
              "      <td>3</td>\n",
              "      <td>5.0</td>\n",
              "    </tr>\n",
              "    <tr>\n",
              "      <th>462</th>\n",
              "      <td>1</td>\n",
              "      <td>5</td>\n",
              "      <td>2</td>\n",
              "      <td>9</td>\n",
              "      <td>1</td>\n",
              "      <td>14</td>\n",
              "      <td>3</td>\n",
              "      <td>9</td>\n",
              "      <td>1</td>\n",
              "      <td>0</td>\n",
              "      <td>...</td>\n",
              "      <td>5.019591</td>\n",
              "      <td>0</td>\n",
              "      <td>1</td>\n",
              "      <td>7</td>\n",
              "      <td>6</td>\n",
              "      <td>5</td>\n",
              "      <td>3</td>\n",
              "      <td>3</td>\n",
              "      <td>3</td>\n",
              "      <td>5.0</td>\n",
              "    </tr>\n",
              "    <tr>\n",
              "      <th>1007</th>\n",
              "      <td>1</td>\n",
              "      <td>2</td>\n",
              "      <td></td>\n",
              "      <td></td>\n",
              "      <td>1</td>\n",
              "      <td>10</td>\n",
              "      <td>1</td>\n",
              "      <td>9</td>\n",
              "      <td>1</td>\n",
              "      <td>0</td>\n",
              "      <td>...</td>\n",
              "      <td>5.073140</td>\n",
              "      <td>0</td>\n",
              "      <td>1</td>\n",
              "      <td>7</td>\n",
              "      <td>6</td>\n",
              "      <td>5</td>\n",
              "      <td>3</td>\n",
              "      <td>3</td>\n",
              "      <td>3</td>\n",
              "      <td>5.0</td>\n",
              "    </tr>\n",
              "  </tbody>\n",
              "</table>\n",
              "<p>3 rows × 58 columns</p>\n",
              "</div>"
            ],
            "text/plain": [
              "      sca2gen  scbage cla clb  cld  cle  clf  clg  ses  @q4m1    ...     \\\n",
              "289         1       4   2   9    1   10    2    7    2      0    ...      \n",
              "462         1       5   2   9    1   14    3    9    1      0    ...      \n",
              "1007        1       2            1   10    1    9    1      0    ...      \n",
              "\n",
              "      Jig_Escapism_Factor  filter_$  CLU4_1  CLU7_2  CLU6_2  CLU5_2  CLU4_2  \\\n",
              "289              5.005743         0       1       7       6       5       3   \n",
              "462              5.019591         0       1       7       6       5       3   \n",
              "1007             5.073140         0       1       7       6       5       3   \n",
              "\n",
              "      QCL_1  QCL_2  escapism  \n",
              "289       3      3       5.0  \n",
              "462       3      3       5.0  \n",
              "1007      3      3       5.0  \n",
              "\n",
              "[3 rows x 58 columns]"
            ]
          },
          "metadata": {
            "tags": []
          },
          "execution_count": 20
        }
      ]
    },
    {
      "metadata": {
        "id": "JMNgBmjBT6W7",
        "colab_type": "code",
        "colab": {}
      },
      "cell_type": "code",
      "source": [
        "df6 = df.drop(df[((df['q15a']==1)&(df['q15b']==1)&(df['q15c']==1)&(df['q15d']==1)&(df['q15e']==1)&(df['q15f']==1)&(df['q15g']==1)&(df['q15h']==1)&(df['q15i']==1)&(df['q15j']==1)&(df['q15k']==1)&(df['q15l']==1)&(df['q15m']==1)&(df['q15n']==1)&(df['q15o']==1)&(df['q15p']==1)&(df['q15q']==1)&(df['q15r']==1)&(df['q15s']==1))|((df['q15a']==5)&(df['q15b']==5)&(df['q15c']==5)&(df['q15d']==5)&(df['q15e']==5)&(df['q15f']==5)&(df['q15g']==5)&(df['q15h']==5)&(df['q15i']==5)&(df['q15j']==5)&(df['q15k']==5)&(df['q15l']==5)&(df['q15m']==5)&(df['q15n']==5)&(df['q15o']==5)&(df['q15p']==5)&(df['q15q']==5)&(df['q15r']==5)&(df['q15s']==5))].index)"
      ],
      "execution_count": 0,
      "outputs": []
    },
    {
      "metadata": {
        "id": "XjFKA25iW8n6",
        "colab_type": "code",
        "colab": {}
      },
      "cell_type": "code",
      "source": [
        "#df1 = df.drop(df[((df['q15a']==1)&(df['q15b']==1)&(df['q15c']==1)&(df['q15d']==1)&(df['q15e']==1)&(df['q15f']==1)&(df['q15g']==1)&(df['q15h']==1)&(df['q15i']==1)&(df['q15j']==1)&(df['q15k']==1)&(df['q15l']==1)&(df['q15m']==1)&(df['q15n']==1)&(df['q15o']==1)&(df['q15p']==1)&(df['q15q']==1)&(df['q15r']==1)&(df['q15s']==1))|((df['q15a']==3)&(df['q15b']==3)&(df['q15c']==3)&(df['q15d']==3)&(df['q15e']==3)&(df['q15f']==3)&(df['q15g']==3)&(df['q15h']==3)&(df['q15i']==3)&(df['q15j']==3)&(df['q15k']==3)&(df['q15l']==3)&(df['q15m']==3)&(df['q15n']==3)&(df['q15o']==3)&(df['q15p']==3)&(df['q15q']==3)&(df['q15r']==3)&(df['q15s']==3))|((df['q15a']==5)&(df['q15b']==5)&(df['q15c']==5)&(df['q15d']==5)&(df['q15e']==5)&(df['q15f']==5)&(df['q15g']==5)&(df['q15h']==5)&(df['q15i']==5)&(df['q15j']==5)&(df['q15k']==5)&(df['q15l']==5)&(df['q15m']==5)&(df['q15n']==5)&(df['q15o']==5)&(df['q15p']==5)&(df['q15q']==5)&(df['q15r']==5)&(df['q15s']==5))|((df['q15a']==4)&(df['q15b']==4)&(df['q15c']==4)&(df['q15d']==4)&(df['q15e']==4)&(df['q15f']==4)&(df['q15g']==4)&(df['q15h']==4)&(df['q15i']==4)&(df['q15j']==4)&(df['q15k']==4)&(df['q15l']==4)&(df['q15m']==4)&(df['q15n']==4)&(df['q15o']==4)&(df['q15p']==4)&(df['q15q']==4)&(df['q15r']==4)&(df['q15s']==4))|((df['q15a']==3)&(df['q15b']==3)&(df['q15c']==3)&(df['q15d']==3)&(df['q15e']==3)&(df['q15f']==3)&(df['q15g']==3)&(df['q15h']==3)&(df['q15i']==3)&(df['q15j']==3)&(df['q15k']==3)&(df['q15l']==3)&(df['q15m']==3)&(df['q15n']==3)&(df['q15o']==3)&(df['q15p']==3)&(df['q15q']==3)&(df['q15r']==3)&(df['q15s']==3))].index)"
      ],
      "execution_count": 0,
      "outputs": []
    },
    {
      "metadata": {
        "id": "eswZv1VHUA4a",
        "colab_type": "code",
        "outputId": "55294405-b5a0-49d3-a2bb-1c9e53a36658",
        "colab": {
          "base_uri": "https://localhost:8080/",
          "height": 35
        }
      },
      "cell_type": "code",
      "source": [
        "df6.shape"
      ],
      "execution_count": 0,
      "outputs": [
        {
          "output_type": "execute_result",
          "data": {
            "text/plain": [
              "(1004, 58)"
            ]
          },
          "metadata": {
            "tags": []
          },
          "execution_count": 12
        }
      ]
    },
    {
      "metadata": {
        "id": "kVBJjoGZfOBe",
        "colab_type": "code",
        "outputId": "28687634-ff43-46a4-d971-378bc90fcf0f",
        "colab": {
          "base_uri": "https://localhost:8080/",
          "height": 35
        }
      },
      "cell_type": "code",
      "source": [
        "[col for col in df6.columns if df6[col].isnull().any()]"
      ],
      "execution_count": 0,
      "outputs": [
        {
          "output_type": "execute_result",
          "data": {
            "text/plain": [
              "[]"
            ]
          },
          "metadata": {
            "tags": []
          },
          "execution_count": 15
        }
      ]
    },
    {
      "metadata": {
        "id": "wlU1YYOClAuK",
        "colab_type": "code",
        "colab": {}
      },
      "cell_type": "code",
      "source": [
        "df6.loc[:, df6.isnull().any()]"
      ],
      "execution_count": 0,
      "outputs": []
    },
    {
      "metadata": {
        "id": "qy3EeQIeUEa9",
        "colab_type": "code",
        "colab": {}
      },
      "cell_type": "code",
      "source": [
        "df6.to_csv(r'/content/filtered_response.csv', encoding='utf-8', index = False)"
      ],
      "execution_count": 0,
      "outputs": []
    },
    {
      "metadata": {
        "id": "wjUEN5VhUNX9",
        "colab_type": "code",
        "outputId": "3805dc12-cc5f-4905-a7cc-b19f15264582",
        "colab": {
          "base_uri": "https://localhost:8080/",
          "height": 255
        }
      },
      "cell_type": "code",
      "source": [
        "df6.head()"
      ],
      "execution_count": 0,
      "outputs": [
        {
          "output_type": "execute_result",
          "data": {
            "text/html": [
              "<div>\n",
              "<style scoped>\n",
              "    .dataframe tbody tr th:only-of-type {\n",
              "        vertical-align: middle;\n",
              "    }\n",
              "\n",
              "    .dataframe tbody tr th {\n",
              "        vertical-align: top;\n",
              "    }\n",
              "\n",
              "    .dataframe thead th {\n",
              "        text-align: right;\n",
              "    }\n",
              "</style>\n",
              "<table border=\"1\" class=\"dataframe\">\n",
              "  <thead>\n",
              "    <tr style=\"text-align: right;\">\n",
              "      <th></th>\n",
              "      <th>sca2gen</th>\n",
              "      <th>scbage</th>\n",
              "      <th>cla</th>\n",
              "      <th>clb</th>\n",
              "      <th>cld</th>\n",
              "      <th>cle</th>\n",
              "      <th>clf</th>\n",
              "      <th>clg</th>\n",
              "      <th>ses</th>\n",
              "      <th>@q4m1</th>\n",
              "      <th>...</th>\n",
              "      <th>Jig_Escapism_Factor</th>\n",
              "      <th>filter_$</th>\n",
              "      <th>CLU4_1</th>\n",
              "      <th>CLU7_2</th>\n",
              "      <th>CLU6_2</th>\n",
              "      <th>CLU5_2</th>\n",
              "      <th>CLU4_2</th>\n",
              "      <th>QCL_1</th>\n",
              "      <th>QCL_2</th>\n",
              "      <th>escapism</th>\n",
              "    </tr>\n",
              "  </thead>\n",
              "  <tbody>\n",
              "    <tr>\n",
              "      <th>0</th>\n",
              "      <td>1</td>\n",
              "      <td>3</td>\n",
              "      <td></td>\n",
              "      <td></td>\n",
              "      <td>1</td>\n",
              "      <td>10</td>\n",
              "      <td>3</td>\n",
              "      <td>3</td>\n",
              "      <td>1</td>\n",
              "      <td>0</td>\n",
              "      <td>...</td>\n",
              "      <td>2.925399</td>\n",
              "      <td>0</td>\n",
              "      <td>1</td>\n",
              "      <td>1</td>\n",
              "      <td>1</td>\n",
              "      <td>1</td>\n",
              "      <td>1</td>\n",
              "      <td>1</td>\n",
              "      <td>1</td>\n",
              "      <td>3.000000</td>\n",
              "    </tr>\n",
              "    <tr>\n",
              "      <th>4</th>\n",
              "      <td>1</td>\n",
              "      <td>5</td>\n",
              "      <td>2</td>\n",
              "      <td>9</td>\n",
              "      <td>1</td>\n",
              "      <td>1</td>\n",
              "      <td>5</td>\n",
              "      <td>5</td>\n",
              "      <td>3</td>\n",
              "      <td>0</td>\n",
              "      <td>...</td>\n",
              "      <td>2.911786</td>\n",
              "      <td>0</td>\n",
              "      <td>1</td>\n",
              "      <td>1</td>\n",
              "      <td>1</td>\n",
              "      <td>1</td>\n",
              "      <td>1</td>\n",
              "      <td>1</td>\n",
              "      <td>1</td>\n",
              "      <td>3.000000</td>\n",
              "    </tr>\n",
              "    <tr>\n",
              "      <th>5</th>\n",
              "      <td>1</td>\n",
              "      <td>7</td>\n",
              "      <td>1</td>\n",
              "      <td>2</td>\n",
              "      <td>1</td>\n",
              "      <td>2</td>\n",
              "      <td>4</td>\n",
              "      <td>9</td>\n",
              "      <td>2</td>\n",
              "      <td>0</td>\n",
              "      <td>...</td>\n",
              "      <td>3.019333</td>\n",
              "      <td>0</td>\n",
              "      <td>1</td>\n",
              "      <td>1</td>\n",
              "      <td>1</td>\n",
              "      <td>1</td>\n",
              "      <td>1</td>\n",
              "      <td>1</td>\n",
              "      <td>1</td>\n",
              "      <td>3.000000</td>\n",
              "    </tr>\n",
              "    <tr>\n",
              "      <th>6</th>\n",
              "      <td>1</td>\n",
              "      <td>6</td>\n",
              "      <td>2</td>\n",
              "      <td>9</td>\n",
              "      <td>1</td>\n",
              "      <td>2</td>\n",
              "      <td>5</td>\n",
              "      <td>6</td>\n",
              "      <td>3</td>\n",
              "      <td>0</td>\n",
              "      <td>...</td>\n",
              "      <td>4.104075</td>\n",
              "      <td>0</td>\n",
              "      <td>3</td>\n",
              "      <td>3</td>\n",
              "      <td>3</td>\n",
              "      <td>3</td>\n",
              "      <td>3</td>\n",
              "      <td>3</td>\n",
              "      <td>3</td>\n",
              "      <td>4.333333</td>\n",
              "    </tr>\n",
              "    <tr>\n",
              "      <th>7</th>\n",
              "      <td>1</td>\n",
              "      <td>7</td>\n",
              "      <td>2</td>\n",
              "      <td>9</td>\n",
              "      <td>1</td>\n",
              "      <td>1</td>\n",
              "      <td>5</td>\n",
              "      <td>5</td>\n",
              "      <td>3</td>\n",
              "      <td>0</td>\n",
              "      <td>...</td>\n",
              "      <td>4.173400</td>\n",
              "      <td>0</td>\n",
              "      <td>3</td>\n",
              "      <td>3</td>\n",
              "      <td>3</td>\n",
              "      <td>3</td>\n",
              "      <td>3</td>\n",
              "      <td>4</td>\n",
              "      <td>4</td>\n",
              "      <td>4.333333</td>\n",
              "    </tr>\n",
              "  </tbody>\n",
              "</table>\n",
              "<p>5 rows × 58 columns</p>\n",
              "</div>"
            ],
            "text/plain": [
              "   sca2gen  scbage cla clb  cld  cle  clf  clg  ses  @q4m1    ...     \\\n",
              "0        1       3            1   10    3    3    1      0    ...      \n",
              "4        1       5   2   9    1    1    5    5    3      0    ...      \n",
              "5        1       7   1   2    1    2    4    9    2      0    ...      \n",
              "6        1       6   2   9    1    2    5    6    3      0    ...      \n",
              "7        1       7   2   9    1    1    5    5    3      0    ...      \n",
              "\n",
              "   Jig_Escapism_Factor  filter_$  CLU4_1  CLU7_2  CLU6_2  CLU5_2  CLU4_2  \\\n",
              "0             2.925399         0       1       1       1       1       1   \n",
              "4             2.911786         0       1       1       1       1       1   \n",
              "5             3.019333         0       1       1       1       1       1   \n",
              "6             4.104075         0       3       3       3       3       3   \n",
              "7             4.173400         0       3       3       3       3       3   \n",
              "\n",
              "   QCL_1  QCL_2  escapism  \n",
              "0      1      1  3.000000  \n",
              "4      1      1  3.000000  \n",
              "5      1      1  3.000000  \n",
              "6      3      3  4.333333  \n",
              "7      4      4  4.333333  \n",
              "\n",
              "[5 rows x 58 columns]"
            ]
          },
          "metadata": {
            "tags": []
          },
          "execution_count": 8
        }
      ]
    },
    {
      "metadata": {
        "id": "FtEF6j6akSm5",
        "colab_type": "code",
        "outputId": "a78a236b-4236-44d9-c84f-021707586d42",
        "colab": {
          "base_uri": "https://localhost:8080/",
          "height": 53
        }
      },
      "cell_type": "code",
      "source": [
        "df6.sca2gen.value_counts()"
      ],
      "execution_count": 0,
      "outputs": [
        {
          "output_type": "execute_result",
          "data": {
            "text/plain": [
              "1    1004\n",
              "Name: sca2gen, dtype: int64"
            ]
          },
          "metadata": {
            "tags": []
          },
          "execution_count": 15
        }
      ]
    },
    {
      "metadata": {
        "id": "09GCCfQlvnIq",
        "colab_type": "code",
        "outputId": "4ac0420a-5afd-430a-8ed2-83e98d4c1649",
        "colab": {
          "base_uri": "https://localhost:8080/",
          "height": 144
        }
      },
      "cell_type": "code",
      "source": [
        "df6.scbage.value_counts()"
      ],
      "execution_count": 0,
      "outputs": [
        {
          "output_type": "execute_result",
          "data": {
            "text/plain": [
              "6    207\n",
              "7    188\n",
              "2    188\n",
              "5    173\n",
              "4    164\n",
              "3     84\n",
              "Name: scbage, dtype: int64"
            ]
          },
          "metadata": {
            "tags": []
          },
          "execution_count": 21
        }
      ]
    },
    {
      "metadata": {
        "id": "MAV-Pd1HvQkL",
        "colab_type": "code",
        "colab": {}
      },
      "cell_type": "code",
      "source": [
        "import matplotlib.pyplot as plt\n",
        "%matplotlib inline\n",
        "plt.style.use('ggplot')"
      ],
      "execution_count": 0,
      "outputs": []
    },
    {
      "metadata": {
        "id": "aAvTgX-fqvj5",
        "colab_type": "code",
        "outputId": "e2d22775-2031-4fb9-d6d5-6b019206d2ab",
        "colab": {
          "base_uri": "https://localhost:8080/",
          "height": 297
        }
      },
      "cell_type": "code",
      "source": [
        "df6.scbage.value_counts().plot(kind='bar')\n",
        "plt.title('Demographics by Age')"
      ],
      "execution_count": 0,
      "outputs": [
        {
          "output_type": "execute_result",
          "data": {
            "text/plain": [
              "Text(0.5, 1.0, 'Demographics by Age')"
            ]
          },
          "metadata": {
            "tags": []
          },
          "execution_count": 26
        },
        {
          "output_type": "display_data",
          "data": {
            "image/png": "[encoded data removed]",
            "text/plain": [
              "<Figure size 432x288 with 1 Axes>"
            ]
          },
          "metadata": {
            "tags": []
          }
        }
      ]
    },
    {
      "metadata": {
        "id": "MRVeBGcbED2a",
        "colab_type": "code",
        "colab": {}
      },
      "cell_type": "code",
      "source": [
        "df11 = pd.get_dummies(df6.scbage)"
      ],
      "execution_count": 0,
      "outputs": []
    },
    {
      "metadata": {
        "id": "cJWWofC7ETQv",
        "colab_type": "code",
        "colab": {}
      },
      "cell_type": "code",
      "source": [
        "df11.columns =[ '16-17', '18-21',  '25-29', '30-34', '13-15', '22-24', ]"
      ],
      "execution_count": 0,
      "outputs": []
    },
    {
      "metadata": {
        "id": "LrY03xK-FKF-",
        "colab_type": "code",
        "outputId": "4a9cdc42-a816-499f-b51e-af0999e89819",
        "colab": {
          "base_uri": "https://localhost:8080/",
          "height": 319
        }
      },
      "cell_type": "code",
      "source": [
        "counts = df11.sum()\n",
        "resps = df11.columns\n",
        "counts.plot(kind='bar')\n",
        "plt.title('Demographics by Age')"
      ],
      "execution_count": 0,
      "outputs": [
        {
          "output_type": "execute_result",
          "data": {
            "text/plain": [
              "Text(0.5, 1.0, 'Demographics by Age')"
            ]
          },
          "metadata": {
            "tags": []
          },
          "execution_count": 66
        },
        {
          "output_type": "display_data",
          "data": {
            "image/png": "[encoded data removed]",
            "text/plain": [
              "<Figure size 432x288 with 1 Axes>"
            ]
          },
          "metadata": {
            "tags": []
          }
        }
      ]
    },
    {
      "metadata": {
        "id": "lvgUkwVGro89",
        "colab_type": "code",
        "outputId": "936cbb62-7303-40d9-b7f9-86f1c391773d",
        "colab": {
          "base_uri": "https://localhost:8080/",
          "height": 144
        }
      },
      "cell_type": "code",
      "source": [
        "df6.cla.value_counts()"
      ],
      "execution_count": 0,
      "outputs": [
        {
          "output_type": "execute_result",
          "data": {
            "text/plain": [
              "2    400\n",
              "1    297\n",
              "     272\n",
              "4     28\n",
              "5      6\n",
              "3      1\n",
              "Name: cla, dtype: int64"
            ]
          },
          "metadata": {
            "tags": []
          },
          "execution_count": 22
        }
      ]
    },
    {
      "metadata": {
        "id": "_qxNIUZoG4yL",
        "colab_type": "code",
        "colab": {}
      },
      "cell_type": "code",
      "source": [
        "df6.cla.isnull()"
      ],
      "execution_count": 0,
      "outputs": []
    },
    {
      "metadata": {
        "id": "zDPzyEH5xZc0",
        "colab_type": "code",
        "outputId": "b2eb6e09-f8ce-4406-cc9a-5d88d246e69f",
        "colab": {
          "base_uri": "https://localhost:8080/",
          "height": 297
        }
      },
      "cell_type": "code",
      "source": [
        "df6.cla.value_counts().plot(kind='bar')\n",
        "plt.title('Marital Status')"
      ],
      "execution_count": 0,
      "outputs": [
        {
          "output_type": "execute_result",
          "data": {
            "text/plain": [
              "Text(0.5, 1.0, 'Marital Status')"
            ]
          },
          "metadata": {
            "tags": []
          },
          "execution_count": 24
        },
        {
          "output_type": "display_data",
          "data": {
            "image/png": "[encoded data removed]",
            "text/plain": [
              "<Figure size 432x288 with 1 Axes>"
            ]
          },
          "metadata": {
            "tags": []
          }
        }
      ]
    },
    {
      "metadata": {
        "id": "ejpvddOyHWqZ",
        "colab_type": "code",
        "colab": {}
      },
      "cell_type": "code",
      "source": [
        "df6.cla.fillna(0, inplace=True)"
      ],
      "execution_count": 0,
      "outputs": []
    },
    {
      "metadata": {
        "id": "ypCmO-AoF5MG",
        "colab_type": "code",
        "colab": {}
      },
      "cell_type": "code",
      "source": [
        "df12 = pd.get_dummies(df6.cla)"
      ],
      "execution_count": 0,
      "outputs": []
    },
    {
      "metadata": {
        "id": "WG9t_s84N1mh",
        "colab_type": "code",
        "outputId": "19455600-f698-4e24-e785-25917919391b",
        "colab": {
          "base_uri": "https://localhost:8080/",
          "height": 35
        }
      },
      "cell_type": "code",
      "source": [
        "df12.columns"
      ],
      "execution_count": 0,
      "outputs": [
        {
          "output_type": "execute_result",
          "data": {
            "text/plain": [
              "Index([' ', '1', '2', '3', '4', '5'], dtype='object')"
            ]
          },
          "metadata": {
            "tags": []
          },
          "execution_count": 86
        }
      ]
    },
    {
      "metadata": {
        "id": "hkn8LAnJOOuz",
        "colab_type": "code",
        "colab": {}
      },
      "cell_type": "code",
      "source": [
        "df12 = df12.drop([' '], axis = 1)"
      ],
      "execution_count": 0,
      "outputs": []
    },
    {
      "metadata": {
        "id": "JezgWHh_IXa5",
        "colab_type": "code",
        "colab": {}
      },
      "cell_type": "code",
      "source": [
        "df12.columns =['Married/in a similar', 'Single', 'Widowed', 'Divorced/separated', 'Decline to answer']"
      ],
      "execution_count": 0,
      "outputs": []
    },
    {
      "metadata": {
        "id": "9IYEQHiEInj1",
        "colab_type": "code",
        "outputId": "4395e973-6551-4c15-9962-468b9f89d980",
        "colab": {
          "base_uri": "https://localhost:8080/",
          "height": 389
        }
      },
      "cell_type": "code",
      "source": [
        "counts = df12.sum()\n",
        "resps = df12.columns\n",
        "counts.plot(kind='bar')\n",
        "plt.title('Marital status')"
      ],
      "execution_count": 0,
      "outputs": [
        {
          "output_type": "execute_result",
          "data": {
            "text/plain": [
              "Text(0.5, 1.0, 'Marital status')"
            ]
          },
          "metadata": {
            "tags": []
          },
          "execution_count": 89
        },
        {
          "output_type": "display_data",
          "data": {
            "image/png": "[encoded data removed]",
            "text/plain": [
              "<Figure size 432x288 with 1 Axes>"
            ]
          },
          "metadata": {
            "tags": []
          }
        }
      ]
    },
    {
      "metadata": {
        "id": "9lwjHtMHxfAY",
        "colab_type": "code",
        "outputId": "8b81fb54-d1c2-433d-df5a-697d6ae0a4b8",
        "colab": {
          "base_uri": "https://localhost:8080/",
          "height": 297
        }
      },
      "cell_type": "code",
      "source": [
        "df6.ses.value_counts().plot(kind='bar')\n",
        "plt.title('Socio Economic Status')"
      ],
      "execution_count": 0,
      "outputs": [
        {
          "output_type": "execute_result",
          "data": {
            "text/plain": [
              "Text(0.5, 1.0, 'Socio Economic Status')"
            ]
          },
          "metadata": {
            "tags": []
          },
          "execution_count": 28
        },
        {
          "output_type": "display_data",
          "data": {
            "image/png": "[encoded data removed]",
            "text/plain": [
              "<Figure size 432x288 with 1 Axes>"
            ]
          },
          "metadata": {
            "tags": []
          }
        }
      ]
    },
    {
      "metadata": {
        "id": "YvyPGhkl0d-k",
        "colab_type": "code",
        "outputId": "e6e09a00-2ba1-42b6-ae5e-864b9cca5b0f",
        "colab": {
          "base_uri": "https://localhost:8080/",
          "height": 108
        }
      },
      "cell_type": "code",
      "source": [
        "df6.ses.value_counts()"
      ],
      "execution_count": 0,
      "outputs": [
        {
          "output_type": "execute_result",
          "data": {
            "text/plain": [
              "1    457\n",
              "2    398\n",
              "3    136\n",
              "4     13\n",
              "Name: ses, dtype: int64"
            ]
          },
          "metadata": {
            "tags": []
          },
          "execution_count": 29
        }
      ]
    },
    {
      "metadata": {
        "id": "N2QSC0ix1rcA",
        "colab_type": "code",
        "colab": {}
      },
      "cell_type": "code",
      "source": [
        "def one_hot(df, cols):\n",
        "    \"\"\"\n",
        "    @param df pandas DataFrame\n",
        "    @param cols a list of columns to encode \n",
        "    @return a DataFrame with one-hot encoding\n",
        "    \"\"\"\n",
        "    for each in cols:\n",
        "        dummies = pd.get_dummies(df[each], prefix=each, drop_first=False)\n",
        "        df = pd.concat([df, dummies], axis=1)\n",
        "    return df"
      ],
      "execution_count": 0,
      "outputs": []
    },
    {
      "metadata": {
        "id": "M0gVwrpn2Dp-",
        "colab_type": "code",
        "colab": {}
      },
      "cell_type": "code",
      "source": [
        "df10 = pd.get_dummies(df6.ses)"
      ],
      "execution_count": 0,
      "outputs": []
    },
    {
      "metadata": {
        "id": "752GyXUJ2ptl",
        "colab_type": "code",
        "colab": {}
      },
      "cell_type": "code",
      "source": [
        "df10.columns =['Low', 'Middle', 'High', 'DK/NA']"
      ],
      "execution_count": 0,
      "outputs": []
    },
    {
      "metadata": {
        "id": "aPWhpJxNBxi2",
        "colab_type": "code",
        "outputId": "a2d5904a-da8c-43ad-a5be-19ab27eb0697",
        "colab": {
          "base_uri": "https://localhost:8080/",
          "height": 206
        }
      },
      "cell_type": "code",
      "source": [
        "df10.head()"
      ],
      "execution_count": 0,
      "outputs": [
        {
          "output_type": "execute_result",
          "data": {
            "text/html": [
              "<div>\n",
              "<style scoped>\n",
              "    .dataframe tbody tr th:only-of-type {\n",
              "        vertical-align: middle;\n",
              "    }\n",
              "\n",
              "    .dataframe tbody tr th {\n",
              "        vertical-align: top;\n",
              "    }\n",
              "\n",
              "    .dataframe thead th {\n",
              "        text-align: right;\n",
              "    }\n",
              "</style>\n",
              "<table border=\"1\" class=\"dataframe\">\n",
              "  <thead>\n",
              "    <tr style=\"text-align: right;\">\n",
              "      <th></th>\n",
              "      <th>Col_1</th>\n",
              "      <th>Col_2</th>\n",
              "      <th>Col_3</th>\n",
              "      <th>Col_4</th>\n",
              "    </tr>\n",
              "  </thead>\n",
              "  <tbody>\n",
              "    <tr>\n",
              "      <th>0</th>\n",
              "      <td>1</td>\n",
              "      <td>0</td>\n",
              "      <td>0</td>\n",
              "      <td>0</td>\n",
              "    </tr>\n",
              "    <tr>\n",
              "      <th>4</th>\n",
              "      <td>0</td>\n",
              "      <td>0</td>\n",
              "      <td>1</td>\n",
              "      <td>0</td>\n",
              "    </tr>\n",
              "    <tr>\n",
              "      <th>5</th>\n",
              "      <td>0</td>\n",
              "      <td>1</td>\n",
              "      <td>0</td>\n",
              "      <td>0</td>\n",
              "    </tr>\n",
              "    <tr>\n",
              "      <th>6</th>\n",
              "      <td>0</td>\n",
              "      <td>0</td>\n",
              "      <td>1</td>\n",
              "      <td>0</td>\n",
              "    </tr>\n",
              "    <tr>\n",
              "      <th>7</th>\n",
              "      <td>0</td>\n",
              "      <td>0</td>\n",
              "      <td>1</td>\n",
              "      <td>0</td>\n",
              "    </tr>\n",
              "  </tbody>\n",
              "</table>\n",
              "</div>"
            ],
            "text/plain": [
              "   Col_1  Col_2  Col_3  Col_4\n",
              "0      1      0      0      0\n",
              "4      0      0      1      0\n",
              "5      0      1      0      0\n",
              "6      0      0      1      0\n",
              "7      0      0      1      0"
            ]
          },
          "metadata": {
            "tags": []
          },
          "execution_count": 35
        }
      ]
    },
    {
      "metadata": {
        "id": "rsVeyfkxByq_",
        "colab_type": "code",
        "outputId": "d016e678-ac14-4ffd-d5a6-254fee2c10de",
        "colab": {
          "base_uri": "https://localhost:8080/",
          "height": 324
        }
      },
      "cell_type": "code",
      "source": [
        "import pandas as pd\n",
        "from bokeh.plotting import figure\n",
        "from bokeh.io import show\n",
        "\n",
        "# df10 is a one-hot encoded dataframe of responses to the question:\n",
        "# \"Socio Economic Status?\"\n",
        "\n",
        "#Dataframe Prep\n",
        "counts = df10.sum()\n",
        "resps = df10.columns\n",
        "\n",
        "#Bokeh\n",
        "p2 = figure(title='Socio Economic Status',\n",
        "          x_axis_label='Response',\n",
        "          y_axis_label='Count',\n",
        "          x_range=list(resps))\n",
        "p2.vbar(x=resps, top=counts, width=0.6, fill_color='red', line_color='black')\n",
        "show(p2)\n",
        "\n",
        "#Pandas\n",
        "counts.plot(kind='bar')\n",
        "plt.title('Socio Economic Status')"
      ],
      "execution_count": 0,
      "outputs": [
        {
          "output_type": "execute_result",
          "data": {
            "text/plain": [
              "Text(0.5, 1.0, 'Socio Economic Status')"
            ]
          },
          "metadata": {
            "tags": []
          },
          "execution_count": 45
        },
        {
          "output_type": "display_data",
          "data": {
            "image/png": "[encoded data removed]",
            "text/plain": [
              "<Figure size 432x288 with 1 Axes>"
            ]
          },
          "metadata": {
            "tags": []
          }
        }
      ]
    },
    {
      "metadata": {
        "id": "CxOz82I0DiVv",
        "colab_type": "code",
        "colab": {}
      },
      "cell_type": "code",
      "source": [
        "df = pd.read_csv('Book2.csv')"
      ],
      "execution_count": 0,
      "outputs": []
    },
    {
      "metadata": {
        "id": "6sY07oOpOC5W",
        "colab_type": "code",
        "outputId": "6ffef3ca-c162-4e56-caf3-d3f63165fd1e",
        "colab": {
          "base_uri": "https://localhost:8080/",
          "height": 255
        }
      },
      "cell_type": "code",
      "source": [
        "df.head()"
      ],
      "execution_count": 0,
      "outputs": [
        {
          "output_type": "execute_result",
          "data": {
            "text/html": [
              "<div>\n",
              "<style scoped>\n",
              "    .dataframe tbody tr th:only-of-type {\n",
              "        vertical-align: middle;\n",
              "    }\n",
              "\n",
              "    .dataframe tbody tr th {\n",
              "        vertical-align: top;\n",
              "    }\n",
              "\n",
              "    .dataframe thead th {\n",
              "        text-align: right;\n",
              "    }\n",
              "</style>\n",
              "<table border=\"1\" class=\"dataframe\">\n",
              "  <thead>\n",
              "    <tr style=\"text-align: right;\">\n",
              "      <th></th>\n",
              "      <th>sca2gen</th>\n",
              "      <th>scbage</th>\n",
              "      <th>cla</th>\n",
              "      <th>clb</th>\n",
              "      <th>cld</th>\n",
              "      <th>cle</th>\n",
              "      <th>clf</th>\n",
              "      <th>clg</th>\n",
              "      <th>ses</th>\n",
              "      <th>@q4m1</th>\n",
              "      <th>...</th>\n",
              "      <th>q15k</th>\n",
              "      <th>q15d</th>\n",
              "      <th>q15h</th>\n",
              "      <th>q15r</th>\n",
              "      <th>q15q</th>\n",
              "      <th>Escape</th>\n",
              "      <th>Fantasize</th>\n",
              "      <th>Socialise</th>\n",
              "      <th>Achieve</th>\n",
              "      <th>DeStress</th>\n",
              "    </tr>\n",
              "  </thead>\n",
              "  <tbody>\n",
              "    <tr>\n",
              "      <th>0</th>\n",
              "      <td>1</td>\n",
              "      <td>3</td>\n",
              "      <td></td>\n",
              "      <td></td>\n",
              "      <td>1</td>\n",
              "      <td>10</td>\n",
              "      <td>3</td>\n",
              "      <td>3</td>\n",
              "      <td>1</td>\n",
              "      <td>0</td>\n",
              "      <td>...</td>\n",
              "      <td>3</td>\n",
              "      <td>3</td>\n",
              "      <td>3</td>\n",
              "      <td>3</td>\n",
              "      <td>3</td>\n",
              "      <td>3.000000</td>\n",
              "      <td>3.00</td>\n",
              "      <td>3.000000</td>\n",
              "      <td>3.000000</td>\n",
              "      <td>3.0</td>\n",
              "    </tr>\n",
              "    <tr>\n",
              "      <th>1</th>\n",
              "      <td>1</td>\n",
              "      <td>5</td>\n",
              "      <td>2</td>\n",
              "      <td>9</td>\n",
              "      <td>1</td>\n",
              "      <td>1</td>\n",
              "      <td>5</td>\n",
              "      <td>5</td>\n",
              "      <td>3</td>\n",
              "      <td>0</td>\n",
              "      <td>...</td>\n",
              "      <td>3</td>\n",
              "      <td>3</td>\n",
              "      <td>3</td>\n",
              "      <td>3</td>\n",
              "      <td>3</td>\n",
              "      <td>3.000000</td>\n",
              "      <td>3.00</td>\n",
              "      <td>3.000000</td>\n",
              "      <td>3.000000</td>\n",
              "      <td>3.0</td>\n",
              "    </tr>\n",
              "    <tr>\n",
              "      <th>2</th>\n",
              "      <td>1</td>\n",
              "      <td>7</td>\n",
              "      <td>1</td>\n",
              "      <td>2</td>\n",
              "      <td>1</td>\n",
              "      <td>2</td>\n",
              "      <td>4</td>\n",
              "      <td>9</td>\n",
              "      <td>2</td>\n",
              "      <td>0</td>\n",
              "      <td>...</td>\n",
              "      <td>3</td>\n",
              "      <td>3</td>\n",
              "      <td>3</td>\n",
              "      <td>3</td>\n",
              "      <td>3</td>\n",
              "      <td>3.000000</td>\n",
              "      <td>3.00</td>\n",
              "      <td>3.000000</td>\n",
              "      <td>3.000000</td>\n",
              "      <td>3.0</td>\n",
              "    </tr>\n",
              "    <tr>\n",
              "      <th>3</th>\n",
              "      <td>1</td>\n",
              "      <td>6</td>\n",
              "      <td>2</td>\n",
              "      <td>9</td>\n",
              "      <td>1</td>\n",
              "      <td>2</td>\n",
              "      <td>5</td>\n",
              "      <td>6</td>\n",
              "      <td>3</td>\n",
              "      <td>0</td>\n",
              "      <td>...</td>\n",
              "      <td>4</td>\n",
              "      <td>2</td>\n",
              "      <td>2</td>\n",
              "      <td>2</td>\n",
              "      <td>2</td>\n",
              "      <td>3.714286</td>\n",
              "      <td>2.50</td>\n",
              "      <td>3.666667</td>\n",
              "      <td>4.333333</td>\n",
              "      <td>3.0</td>\n",
              "    </tr>\n",
              "    <tr>\n",
              "      <th>4</th>\n",
              "      <td>1</td>\n",
              "      <td>7</td>\n",
              "      <td>2</td>\n",
              "      <td>9</td>\n",
              "      <td>1</td>\n",
              "      <td>1</td>\n",
              "      <td>5</td>\n",
              "      <td>5</td>\n",
              "      <td>3</td>\n",
              "      <td>0</td>\n",
              "      <td>...</td>\n",
              "      <td>4</td>\n",
              "      <td>4</td>\n",
              "      <td>2</td>\n",
              "      <td>4</td>\n",
              "      <td>2</td>\n",
              "      <td>4.142857</td>\n",
              "      <td>2.25</td>\n",
              "      <td>3.666667</td>\n",
              "      <td>4.000000</td>\n",
              "      <td>4.0</td>\n",
              "    </tr>\n",
              "  </tbody>\n",
              "</table>\n",
              "<p>5 rows × 50 columns</p>\n",
              "</div>"
            ],
            "text/plain": [
              "   sca2gen  scbage cla clb  cld  cle  clf  clg  ses  @q4m1    ...     q15k  \\\n",
              "0        1       3            1   10    3    3    1      0    ...        3   \n",
              "1        1       5   2   9    1    1    5    5    3      0    ...        3   \n",
              "2        1       7   1   2    1    2    4    9    2      0    ...        3   \n",
              "3        1       6   2   9    1    2    5    6    3      0    ...        4   \n",
              "4        1       7   2   9    1    1    5    5    3      0    ...        4   \n",
              "\n",
              "   q15d  q15h  q15r  q15q    Escape  Fantasize  Socialise   Achieve  DeStress  \n",
              "0     3     3     3     3  3.000000       3.00   3.000000  3.000000       3.0  \n",
              "1     3     3     3     3  3.000000       3.00   3.000000  3.000000       3.0  \n",
              "2     3     3     3     3  3.000000       3.00   3.000000  3.000000       3.0  \n",
              "3     2     2     2     2  3.714286       2.50   3.666667  4.333333       3.0  \n",
              "4     4     2     4     2  4.142857       2.25   3.666667  4.000000       4.0  \n",
              "\n",
              "[5 rows x 50 columns]"
            ]
          },
          "metadata": {
            "tags": []
          },
          "execution_count": 11
        }
      ]
    },
    {
      "metadata": {
        "id": "4BaNbGEAOEH8",
        "colab_type": "code",
        "colab": {}
      },
      "cell_type": "code",
      "source": [
        "df = pd.read_csv('survey.csv')"
      ],
      "execution_count": 0,
      "outputs": []
    },
    {
      "metadata": {
        "id": "BNW0NXWxWsaq",
        "colab_type": "code",
        "outputId": "5300e106-0f43-429e-dbd0-2e5405df970d",
        "colab": {
          "base_uri": "https://localhost:8080/",
          "height": 255
        }
      },
      "cell_type": "code",
      "source": [
        "!pip install factor_analyzer"
      ],
      "execution_count": 0,
      "outputs": [
        {
          "output_type": "stream",
          "text": [
            "Collecting factor_analyzer\n",
            "\u001b[?25l  Downloading https://files.pythonhosted.org/packages/dc/a1/df0babd5c16f59c7de85655cc0be9f8efc042a5d6a32508344078e1d8c4f/factor_analyzer-0.3.1-py3-none-any.whl (41kB)\n",
            "\u001b[K    100% |████████████████████████████████| 51kB 3.8MB/s \n",
            "\u001b[?25hRequirement already satisfied: pandas in /usr/local/lib/python3.6/dist-packages (from factor_analyzer) (0.23.4)\n",
            "Requirement already satisfied: scikit-learn in /usr/local/lib/python3.6/dist-packages (from factor_analyzer) (0.20.3)\n",
            "Requirement already satisfied: scipy in /usr/local/lib/python3.6/dist-packages (from factor_analyzer) (1.2.1)\n",
            "Requirement already satisfied: numpy in /usr/local/lib/python3.6/dist-packages (from factor_analyzer) (1.16.2)\n",
            "Requirement already satisfied: pytz>=2011k in /usr/local/lib/python3.6/dist-packages (from pandas->factor_analyzer) (2018.9)\n",
            "Requirement already satisfied: python-dateutil>=2.5.0 in /usr/local/lib/python3.6/dist-packages (from pandas->factor_analyzer) (2.5.3)\n",
            "Requirement already satisfied: six>=1.5 in /usr/local/lib/python3.6/dist-packages (from python-dateutil>=2.5.0->pandas->factor_analyzer) (1.11.0)\n",
            "Installing collected packages: factor-analyzer\n",
            "Successfully installed factor-analyzer-0.3.1\n"
          ],
          "name": "stdout"
        }
      ]
    },
    {
      "metadata": {
        "id": "Ze7x2jR6Wt2a",
        "colab_type": "code",
        "colab": {}
      },
      "cell_type": "code",
      "source": [
        "from factor_analyzer import FactorAnalyzer"
      ],
      "execution_count": 0,
      "outputs": []
    },
    {
      "metadata": {
        "id": "TU8TY0-oY_2m",
        "colab_type": "code",
        "colab": {}
      },
      "cell_type": "code",
      "source": [
        "df.isnull().sum()/len(df)*100"
      ],
      "execution_count": 0,
      "outputs": []
    },
    {
      "metadata": {
        "id": "p70g-K7_ZdLE",
        "colab_type": "code",
        "outputId": "8e233adc-e374-48df-fbfc-338d13ccf440",
        "colab": {
          "base_uri": "https://localhost:8080/",
          "height": 144
        }
      },
      "cell_type": "code",
      "source": [
        "df.columns"
      ],
      "execution_count": 0,
      "outputs": [
        {
          "output_type": "execute_result",
          "data": {
            "text/plain": [
              "Index(['sca2gen', 'scbage', 'cld', 'cle', 'clf', 'clg', 'ses', '@q4m1',\n",
              "       '@q4m2', '@q4m3', '@q4m4', '@q4m5', '@q4m6', '@q4m7', '@q4m8', '@q4m9',\n",
              "       '@q4m10', '@q4n1', '@q4n2', '@q4n3', '@q4n4', '@q4n5', '@q4n6', '@q4n7',\n",
              "       'q15m', 'q15b', 'q15g', 'q15a', 'q15e', 'q15o', 'q15s', 'q15f', 'q15n',\n",
              "       'q15p', 'q15c', 'q15j', 'q15i', 'q15l', 'q15k', 'q15d', 'q15h', 'q15r',\n",
              "       'q15q', 'Escape', 'DeStress', 'Fantasize', 'Socialise', 'Achieve'],\n",
              "      dtype='object')"
            ]
          },
          "metadata": {
            "tags": []
          },
          "execution_count": 19
        }
      ]
    },
    {
      "metadata": {
        "id": "065W9XvYwB8Z",
        "colab_type": "code",
        "outputId": "87ceef22-f79e-4561-b89e-fea3fa78b411",
        "colab": {
          "base_uri": "https://localhost:8080/",
          "height": 282
        }
      },
      "cell_type": "code",
      "source": [
        "y = df['Escape']\n",
        "plt.title('Distribution of Escape Factor')\n",
        "\n",
        "#y.plot.hist(COLOR = \"green\", bins = 20, ec = \"black\")\n",
        "plt.hist(y,COLOR = \"blue\", bins = 20, ec = \"black\")\n",
        "plt.show()"
      ],
      "execution_count": 0,
      "outputs": [
        {
          "output_type": "display_data",
          "data": {
            "image/png": "[encoded data removed]",
            "text/plain": [
              "<Figure size 432x288 with 1 Axes>"
            ]
          },
          "metadata": {
            "tags": []
          }
        }
      ]
    },
    {
      "metadata": {
        "id": "ZpiNm8JXwVFx",
        "colab_type": "code",
        "outputId": "12c34540-ee88-41db-f650-889e4cb561ce",
        "colab": {
          "base_uri": "https://localhost:8080/",
          "height": 282
        }
      },
      "cell_type": "code",
      "source": [
        "y = df['DeStress']\n",
        "plt.title('Distribution of DeStress Factor')\n",
        "\n",
        "#y.plot.hist(COLOR = \"green\", bins = 20, ec = \"black\")\n",
        "plt.hist(y,COLOR = \"green\", bins = 8, ec = \"black\")\n",
        "plt.show()"
      ],
      "execution_count": 0,
      "outputs": [
        {
          "output_type": "display_data",
          "data": {
            "image/png": "[encoded data removed]",
            "text/plain": [
              "<Figure size 432x288 with 1 Axes>"
            ]
          },
          "metadata": {
            "tags": []
          }
        }
      ]
    },
    {
      "metadata": {
        "id": "Vh9NhtxUxyOk",
        "colab_type": "code",
        "colab": {}
      },
      "cell_type": "code",
      "source": [
        ""
      ],
      "execution_count": 0,
      "outputs": []
    }
  ]
}