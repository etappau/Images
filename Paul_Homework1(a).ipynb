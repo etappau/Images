{
  "nbformat": 4,
  "nbformat_minor": 0,
  "metadata": {
    "colab": {
      "name": "Paul_Homework1(a).ipynb",
      "version": "0.3.2",
      "provenance": [],
      "collapsed_sections": [],
      "include_colab_link": true
    },
    "kernelspec": {
      "name": "python3",
      "display_name": "Python 3"
    }
  },
  "cells": [
    {
      "cell_type": "markdown",
      "metadata": {
        "id": "view-in-github",
        "colab_type": "text"
      },
      "source": [
        "<a href=\"https://colab.research.google.com/github/etappau/Images/blob/master/Paul_Homework1(a).ipynb\" target=\"_parent\"><img src=\"https://colab.research.google.com/assets/colab-badge.svg\" alt=\"Open In Colab\"/></a>"
      ]
    },
    {
      "cell_type": "code",
      "metadata": {
        "id": "Rhrh-6TJMuYY",
        "colab_type": "code",
        "colab": {
          "base_uri": "https://localhost:8080/",
          "height": 204
        },
        "outputId": "95c5056f-cf0f-4628-8c78-50d1201e6ca1"
      },
      "source": [
        "!wget http://www.gutenberg.org/files/11/11-0.txt"
      ],
      "execution_count": 1,
      "outputs": [
        {
          "output_type": "stream",
          "text": [
            "--2019-09-02 07:42:19--  http://www.gutenberg.org/files/11/11-0.txt\n",
            "Resolving www.gutenberg.org (www.gutenberg.org)... 152.19.134.47, 2610:28:3090:3000:0:bad:cafe:47\n",
            "Connecting to www.gutenberg.org (www.gutenberg.org)|152.19.134.47|:80... connected.\n",
            "HTTP request sent, awaiting response... 200 OK\n",
            "Length: 173595 (170K) [text/plain]\n",
            "Saving to: ‘11-0.txt’\n",
            "\n",
            "11-0.txt            100%[===================>] 169.53K   391KB/s    in 0.4s    \n",
            "\n",
            "2019-09-02 07:42:20 (391 KB/s) - ‘11-0.txt’ saved [173595/173595]\n",
            "\n"
          ],
          "name": "stdout"
        }
      ]
    },
    {
      "cell_type": "code",
      "metadata": {
        "id": "3kWk00tNM7P_",
        "colab_type": "code",
        "colab": {}
      },
      "source": [
        "!less -N 11-0.txt"
      ],
      "execution_count": 0,
      "outputs": []
    },
    {
      "cell_type": "code",
      "metadata": {
        "id": "-NURVaQ6cm-I",
        "colab_type": "code",
        "colab": {}
      },
      "source": [
        "!cat -n 11-0.txt "
      ],
      "execution_count": 0,
      "outputs": []
    },
    {
      "cell_type": "code",
      "metadata": {
        "id": "hjdR5bp2mMIS",
        "colab_type": "code",
        "colab": {}
      },
      "source": [
        "!tail -365 11-0.txt"
      ],
      "execution_count": 0,
      "outputs": []
    },
    {
      "cell_type": "markdown",
      "metadata": {
        "id": "v0XLR2Dooj-q",
        "colab_type": "text"
      },
      "source": [
        "*You can negate this operation and can delete lines that are not in the specified range.*"
      ]
    },
    {
      "cell_type": "code",
      "metadata": {
        "id": "wW-egzz8gDXj",
        "colab_type": "code",
        "colab": {}
      },
      "source": [
        "!sed -i '41,3370!d' 11-0.txt"
      ],
      "execution_count": 0,
      "outputs": []
    },
    {
      "cell_type": "code",
      "metadata": {
        "id": "ViTmiOnxocAo",
        "colab_type": "code",
        "colab": {
          "base_uri": "https://localhost:8080/",
          "height": 187
        },
        "outputId": "dc5368cf-b263-4b01-bb5c-3a7ab3e60069"
      },
      "source": [
        "!head 11-0.txt"
      ],
      "execution_count": 3,
      "outputs": [
        {
          "output_type": "stream",
          "text": [
            "CHAPTER I. Down the Rabbit-Hole\r\n",
            "\r\n",
            "Alice was beginning to get very tired of sitting by her sister on the\r\n",
            "bank, and of having nothing to do: once or twice she had peeped into the\r\n",
            "book her sister was reading, but it had no pictures or conversations in\r\n",
            "it, ‘and what is the use of a book,’ thought Alice ‘without pictures or\r\n",
            "conversations?’\r\n",
            "\r\n",
            "So she was considering in her own mind (as well as she could, for the\r\n",
            "hot day made her feel very sleepy and stupid), whether the pleasure\r\n"
          ],
          "name": "stdout"
        }
      ]
    },
    {
      "cell_type": "code",
      "metadata": {
        "id": "lU6wDLxpoLue",
        "colab_type": "code",
        "colab": {
          "base_uri": "https://localhost:8080/",
          "height": 187
        },
        "outputId": "87ba3d40-2a56-4e3b-ac70-37a6fd2047ff"
      },
      "source": [
        "!tail 11-0.txt"
      ],
      "execution_count": 4,
      "outputs": [
        {
          "output_type": "stream",
          "text": [
            "Lastly, she pictured to herself how this same little sister of hers\r\n",
            "would, in the after-time, be herself a grown woman; and how she would\r\n",
            "keep, through all her riper years, the simple and loving heart of her\r\n",
            "childhood: and how she would gather about her other little children, and\r\n",
            "make THEIR eyes bright and eager with many a strange tale, perhaps even\r\n",
            "with the dream of Wonderland of long ago: and how she would feel with\r\n",
            "all their simple sorrows, and find a pleasure in all their simple joys,\r\n",
            "remembering her own child-life, and the happy summer days.\r\n",
            "\r\n",
            "              THE END\r\n"
          ],
          "name": "stdout"
        }
      ]
    },
    {
      "cell_type": "code",
      "metadata": {
        "id": "TIU5-ZD9PA8W",
        "colab_type": "code",
        "colab": {
          "base_uri": "https://localhost:8080/",
          "height": 34
        },
        "outputId": "6cda707a-aaa7-40cb-891f-d51fa45eb23d"
      },
      "source": [
        "!wc 11-0.txt"
      ],
      "execution_count": 5,
      "outputs": [
        {
          "output_type": "stream",
          "text": [
            "  3330  26438 153644 11-0.txt\n"
          ],
          "name": "stdout"
        }
      ]
    },
    {
      "cell_type": "markdown",
      "metadata": {
        "id": "aIoUmzk8PnFc",
        "colab_type": "text"
      },
      "source": [
        "[3330 lines  26438 words  153644 characters]"
      ]
    },
    {
      "cell_type": "code",
      "metadata": {
        "id": "FK5V8R9Et4Nj",
        "colab_type": "code",
        "colab": {}
      },
      "source": [
        "!iconv -c 11-0.txt | less"
      ],
      "execution_count": 0,
      "outputs": []
    },
    {
      "cell_type": "code",
      "metadata": {
        "id": "fEMhk7qht4Wb",
        "colab_type": "code",
        "colab": {}
      },
      "source": [
        "!hexdump -c 11-0.txt | less"
      ],
      "execution_count": 0,
      "outputs": []
    },
    {
      "cell_type": "code",
      "metadata": {
        "id": "7jIo2_i8t4az",
        "colab_type": "code",
        "colab": {}
      },
      "source": [
        "!tr -cd '\\11\\12\\15\\40-\\176' < 11-0.txt > clean.txt"
      ],
      "execution_count": 0,
      "outputs": []
    },
    {
      "cell_type": "markdown",
      "metadata": {
        "id": "jCLcw02Xxwec",
        "colab_type": "text"
      },
      "source": [
        "All the other binary characters — the “garbage” characters in your file — are stripped out during this translation process.\n",
        "octal 11: tab\n",
        "octal 12: linefeed\n",
        "octal 15: carriage return\n",
        "octal 40 through octal 176: all the \"good\" keyboard characters "
      ]
    },
    {
      "cell_type": "code",
      "metadata": {
        "id": "vrWlJ4Grxf2c",
        "colab_type": "code",
        "colab": {}
      },
      "source": [
        "!hexdump -c clean4.txt | less"
      ],
      "execution_count": 0,
      "outputs": []
    },
    {
      "cell_type": "code",
      "metadata": {
        "id": "rmF9JXkPqrB4",
        "colab_type": "code",
        "colab": {}
      },
      "source": [
        "!tr '\\n' ' ' < clean.txt > clean1.txt"
      ],
      "execution_count": 0,
      "outputs": []
    },
    {
      "cell_type": "code",
      "metadata": {
        "id": "A_eTK3saqBSL",
        "colab_type": "code",
        "colab": {}
      },
      "source": [
        "!tr '\\r ' ' ' < clean1.txt > clean2.txt"
      ],
      "execution_count": 0,
      "outputs": []
    },
    {
      "cell_type": "code",
      "metadata": {
        "id": "gNO1k6BUr2Yd",
        "colab_type": "code",
        "colab": {}
      },
      "source": [
        "!sed 's/[  ]\\{2,\\}/ /g' clean2.txt > clean3.txt"
      ],
      "execution_count": 0,
      "outputs": []
    },
    {
      "cell_type": "code",
      "metadata": {
        "id": "oUGMsXG3sIit",
        "colab_type": "code",
        "colab": {}
      },
      "source": [
        "!sed -r '/^\\s*$/d' clean3.txt > clean4.txt"
      ],
      "execution_count": 0,
      "outputs": []
    },
    {
      "cell_type": "code",
      "metadata": {
        "id": "VcVVmDmfsSll",
        "colab_type": "code",
        "colab": {}
      },
      "source": [
        "!more clean4.txt"
      ],
      "execution_count": 0,
      "outputs": []
    },
    {
      "cell_type": "markdown",
      "metadata": {
        "id": "wxXKZsQbCDXD",
        "colab_type": "text"
      },
      "source": [
        "*In order to check words in a first for validity, what we can do is download another file and take that as a reference dictionary and then compare the results.*"
      ]
    },
    {
      "cell_type": "markdown",
      "metadata": {
        "id": "mNxq5EadZwcq",
        "colab_type": "text"
      },
      "source": [
        "The set complement operation finds elements that are in one set but not the other. We write A - B or A \\ B to denote set's B complement in set A."
      ]
    },
    {
      "cell_type": "code",
      "metadata": {
        "id": "Sxzxu71CaZ3X",
        "colab_type": "code",
        "colab": {
          "base_uri": "https://localhost:8080/",
          "height": 102
        },
        "outputId": "5345c5ba-1e63-4853-d149-d16cb2946977"
      },
      "source": [
        "!sort out1.txt out1.txt stopword.txt | uniq -u | head -5"
      ],
      "execution_count": 39,
      "outputs": [
        {
          "output_type": "stream",
          "text": [
            "a\n",
            "about\n",
            "above\n",
            "after\n",
            "again\n"
          ],
          "name": "stdout"
        }
      ]
    },
    {
      "cell_type": "code",
      "metadata": {
        "id": "KxAHNxXibcTS",
        "colab_type": "code",
        "colab": {
          "base_uri": "https://localhost:8080/",
          "height": 102
        },
        "outputId": "7dfec0f9-b6b1-4dec-ca9d-6c39360d789c"
      },
      "source": [
        "!grep -vxF -f out1.txt stopword.txt | sort -n | head -5"
      ],
      "execution_count": 46,
      "outputs": [
        {
          "output_type": "stream",
          "text": [
            "a\n",
            "about\n",
            "above\n",
            "after\n",
            "again\n"
          ],
          "name": "stdout"
        }
      ]
    },
    {
      "cell_type": "markdown",
      "metadata": {
        "id": "4cXOi7e0vRwH",
        "colab_type": "text"
      },
      "source": [
        "*Frequncy* of unique words"
      ]
    },
    {
      "cell_type": "code",
      "metadata": {
        "id": "2CfJjnh8020U",
        "colab_type": "code",
        "colab": {
          "base_uri": "https://localhost:8080/",
          "height": 102
        },
        "outputId": "d3d385e2-95d9-4bdc-d951-f409d3798310"
      },
      "source": [
        "!sed 's/^\\012//' clean4.txt | sed 's/[0-9]*//g' |tr '[A-Z]' '[a-z]' | grep -o -E '\\w+' |sort -f | uniq -c | sort -n -r | head -5"
      ],
      "execution_count": 47,
      "outputs": [
        {
          "output_type": "stream",
          "text": [
            "   1643 the\n",
            "    872 and\n",
            "    729 to\n",
            "    632 a\n",
            "    541 she\n"
          ],
          "name": "stdout"
        }
      ]
    },
    {
      "cell_type": "markdown",
      "metadata": {
        "id": "JV6kkwW_6Hnd",
        "colab_type": "text"
      },
      "source": [
        "Substitute all non alphanumeric characters with a blank space.\n",
        "All line breaks are converted to spaces also.\n",
        "Reduces all multiple blank spaces to one blank space\n",
        "All spaces are now converted to line breaks. Each word in a line.\n",
        "Translates all words to lower case to avoid 'Hello' and 'hello' to be different words\n",
        "Sorts de text\n",
        "Counts and remove the equal lines\n",
        "Sorts reverse in order to count the most frequent words\n",
        "Add a line number to each word in order to know the word posotion in the whole"
      ]
    },
    {
      "cell_type": "code",
      "metadata": {
        "id": "QmI7UnMA5gfD",
        "colab_type": "code",
        "colab": {
          "base_uri": "https://localhost:8080/",
          "height": 102
        },
        "outputId": "3ce2a3be-f46f-4313-85a3-745e6ac5f154"
      },
      "source": [
        "!sed -e 's/[^[:alpha:]]/ /g' clean4.txt | tr '\\n' \" \" |  tr -s \" \" | tr \" \" '\\n'| tr 'A-Z' 'a-z' | sort | uniq -c | sort -nr | nl | head -n 5"
      ],
      "execution_count": 48,
      "outputs": [
        {
          "output_type": "stream",
          "text": [
            "     1\t   1643 the\n",
            "     2\t    872 and\n",
            "     3\t    729 to\n",
            "     4\t    632 a\n",
            "     5\t    541 she\n"
          ],
          "name": "stdout"
        }
      ]
    },
    {
      "cell_type": "code",
      "metadata": {
        "id": "pwkHD5oTIrAC",
        "colab_type": "code",
        "colab": {
          "base_uri": "https://localhost:8080/",
          "height": 102
        },
        "outputId": "9d027c2b-7159-4fec-992b-419c79a8be6f"
      },
      "source": [
        "!cat clean4.txt | tr -cs A-Za-z '\\n' | tr A-Z a-z | sort | uniq -c | sort -rn | sed 5q"
      ],
      "execution_count": 49,
      "outputs": [
        {
          "output_type": "stream",
          "text": [
            "   1643 the\n",
            "    872 and\n",
            "    729 to\n",
            "    632 a\n",
            "    541 she\n"
          ],
          "name": "stdout"
        }
      ]
    },
    {
      "cell_type": "markdown",
      "metadata": {
        "id": "UyeD6rjSDZNF",
        "colab_type": "text"
      },
      "source": [
        "*Distinct words with exactly 14 letters*"
      ]
    },
    {
      "cell_type": "code",
      "metadata": {
        "id": "XbExZIWD8iIP",
        "colab_type": "code",
        "colab": {}
      },
      "source": [
        "!sed 's/^\\012//' clean4.txt | sed 's/[0-9]*//g' |tr '[A-Z]' '[a-z]' | grep -o -E '\\w+' |sort -f | uniq -c | sort -n -r | fgrep -vwf stopword.txt > out1.txt"
      ],
      "execution_count": 0,
      "outputs": []
    },
    {
      "cell_type": "code",
      "metadata": {
        "id": "BBtV4POM2AYF",
        "colab_type": "code",
        "colab": {}
      },
      "source": [
        "!more out1.txt"
      ],
      "execution_count": 0,
      "outputs": []
    },
    {
      "cell_type": "code",
      "metadata": {
        "id": "VyB5TwZkDBbV",
        "colab_type": "code",
        "colab": {
          "base_uri": "https://localhost:8080/",
          "height": 85
        },
        "outputId": "086a9c69-743d-475b-d887-8d1cfd557659"
      },
      "source": [
        "!tr ' ' '\\n' < out1.txt | grep '^.\\{14\\}$'"
      ],
      "execution_count": 25,
      "outputs": [
        {
          "output_type": "stream",
          "text": [
            "contemptuously\n",
            "multiplication\n",
            "disappointment\n",
            "affectionately\n"
          ],
          "name": "stdout"
        }
      ]
    },
    {
      "cell_type": "markdown",
      "metadata": {
        "id": "fWkCtEnRPcZK",
        "colab_type": "text"
      },
      "source": [
        "*find all occurences of word with frquency n*"
      ]
    },
    {
      "cell_type": "code",
      "metadata": {
        "id": "honiaqVaPhZM",
        "colab_type": "code",
        "colab": {
          "base_uri": "https://localhost:8080/",
          "height": 34
        },
        "outputId": "67555d5b-93a9-4aee-dbb7-69281951fbd1"
      },
      "source": [
        "!cat clean4.txt | tr -cs A-Za-z '\\n' | tr A-Z a-z | sort | uniq -c | sort -rn | awk '$1 == 1643 {print $2}' | head -20"
      ],
      "execution_count": 36,
      "outputs": [
        {
          "output_type": "stream",
          "text": [
            "the\n"
          ],
          "name": "stdout"
        }
      ]
    }
  ]
}